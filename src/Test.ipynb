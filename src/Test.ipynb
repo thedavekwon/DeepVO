{
 "cells": [
  {
   "cell_type": "code",
   "execution_count": 1,
   "metadata": {},
   "outputs": [],
   "source": [
    "import torch\n",
    "import torch.nn as nn\n",
    "import torchvision.transforms as transforms\n",
    "import torch.optim as optims\n",
    "from torchsummary import summary\n",
    "from model import DeepVO\n",
    "from utils import *"
   ]
  },
  {
   "cell_type": "code",
   "execution_count": 2,
   "metadata": {},
   "outputs": [],
   "source": [
    "ds = KittiPredefinedDataset()"
   ]
  },
  {
   "cell_type": "code",
   "execution_count": 10,
   "metadata": {},
   "outputs": [
    {
     "name": "stdout",
     "output_type": "stream",
     "text": [
      "tensor([[-0.0469, -0.0284,  0.8587],\n",
      "        [-0.0468, -0.0284,  0.8576],\n",
      "        [-0.0938, -0.0568,  1.7174],\n",
      "        [-0.0937, -0.0567,  1.7153],\n",
      "        [-0.1407, -0.0852,  2.5761],\n",
      "        [-0.1405, -0.0851,  2.5729],\n",
      "        [-0.1876, -0.1136,  3.4349],\n",
      "        [-0.1874, -0.1134,  3.4306],\n",
      "        [-0.2345, -0.1420,  4.2934],\n",
      "        [-0.2343, -0.1418,  4.2895],\n",
      "        [-0.2813, -0.1703,  5.1508],\n",
      "        [-0.2811, -0.1702,  5.1482],\n",
      "        [-0.3282, -0.1987,  6.0094],\n",
      "        [-0.3280, -0.1987,  6.0060],\n",
      "        [-0.3738, -0.2252,  6.8637],\n",
      "        [-0.3760, -0.2288,  6.8678],\n",
      "        [-0.4233, -0.2553,  7.7325],\n",
      "        [-0.4314, -0.2602,  7.7471],\n",
      "        [-0.4759, -0.2863,  8.6223],\n",
      "        [-0.4850, -0.2921,  8.6467]])\n"
     ]
    }
   ],
   "source": [
    "draw"
   ]
  },
  {
   "cell_type": "code",
   "execution_count": 5,
   "metadata": {},
   "outputs": [],
   "source": [
    "odom = pykitti.odometry(\"../dataset\", \"00\")"
   ]
  },
  {
   "cell_type": "code",
   "execution_count": 6,
   "metadata": {},
   "outputs": [
    {
     "data": {
      "text/plain": [
       "array([-0.04690294, -0.02839928,  0.8586941 ])"
      ]
     },
     "execution_count": 6,
     "metadata": {},
     "output_type": "execute_result"
    }
   ],
   "source": [
    "se3_to_position(odom.poses[1])"
   ]
  },
  {
   "cell_type": "code",
   "execution_count": 7,
   "metadata": {},
   "outputs": [
    {
     "ename": "SyntaxError",
     "evalue": "invalid syntax (<ipython-input-7-0e51c6e4731d>, line 1)",
     "output_type": "error",
     "traceback": [
      "\u001b[0;36m  File \u001b[0;32m\"<ipython-input-7-0e51c6e4731d>\"\u001b[0;36m, line \u001b[0;32m1\u001b[0m\n\u001b[0;31m    se3_to_position(odom.poses[])\u001b[0m\n\u001b[0m                               ^\u001b[0m\n\u001b[0;31mSyntaxError\u001b[0m\u001b[0;31m:\u001b[0m invalid syntax\n"
     ]
    }
   ],
   "source": [
    "se3_to_position(odom.poses[])"
   ]
  }
 ],
 "metadata": {
  "kernelspec": {
   "display_name": "Python 3",
   "language": "python",
   "name": "python3"
  },
  "language_info": {
   "codemirror_mode": {
    "name": "ipython",
    "version": 3
   },
   "file_extension": ".py",
   "mimetype": "text/x-python",
   "name": "python",
   "nbconvert_exporter": "python",
   "pygments_lexer": "ipython3",
   "version": "3.6.8"
  }
 },
 "nbformat": 4,
 "nbformat_minor": 2
}
