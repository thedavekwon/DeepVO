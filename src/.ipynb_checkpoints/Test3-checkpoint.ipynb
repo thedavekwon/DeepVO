{
 "cells": [
  {
   "cell_type": "code",
   "execution_count": 1,
   "metadata": {},
   "outputs": [],
   "source": [
    "import torch\n",
    "import torch.nn as nn\n",
    "import torchvision.transforms as transforms\n",
    "import torch.optim as optims\n",
    "from torchsummary import summary\n",
    "from model import DeepVO\n",
    "from utils import *"
   ]
  },
  {
   "cell_type": "code",
   "execution_count": 2,
   "metadata": {},
   "outputs": [],
   "source": [
    "# device = torch.device(\"cuda:1\" if torch.cuda.is_available() else \"cpu\")\n",
    "\n",
    "# model = DeepVO()\n",
    "# model.to(device)\n",
    "# # model.load_pretrained_flow(device, \"../weights/pretrained.weights\")\n",
    "\n",
    "# optimizer = optims.Adagrad(model.parameters(), lr=0.001)\n",
    "\n",
    "# cur, model, optimizer = load_model(device, \"../weights/pretrained.weights\")\n",
    "\n",
    "# trian_dl = DataLoader(KittiPredefinedDataset(), batch_size=24, shuffle=True, num_workers=8)\n",
    "# trian_dl = DataLoader(KittiPredefinedDataset(), batch_size=24, shuffle=True, num_workers=12)\n",
    "# vali_dl  = DataLoader(KittiPredefinedValidationDataset(), batch_size=24, shuffle=False, num_workers=12)\n",
    "# test_dl = DataLoader(KittiPredefinedDataset(seqs=[\"10\"]), batch_size=24, shuffle=False, num_workers=6)\n",
    "ds = KittiPredefinedDataset([\"00\"])"
   ]
  },
  {
   "cell_type": "code",
   "execution_count": 3,
   "metadata": {},
   "outputs": [
    {
     "data": {
      "text/plain": [
       "torch.Size([6, 6, 620, 188])"
      ]
     },
     "execution_count": 3,
     "metadata": {},
     "output_type": "execute_result"
    }
   ],
   "source": [
    "ds[0][0].shape"
   ]
  },
  {
   "cell_type": "code",
   "execution_count": 5,
   "metadata": {},
   "outputs": [
    {
     "data": {
      "text/plain": [
       "tensor([[ 5.5511e-17,  3.3307e-16, -4.4409e-16],\n",
       "        [-4.6903e-02, -2.8399e-02,  8.5869e-01],\n",
       "        [-4.6841e-02, -2.8361e-02,  8.5758e-01],\n",
       "        [-4.6899e-02, -2.8397e-02,  8.5869e-01],\n",
       "        [-4.6843e-02, -2.8363e-02,  8.5768e-01],\n",
       "        [-4.6896e-02, -2.8395e-02,  8.5869e-01],\n",
       "        [-4.6838e-02, -2.8359e-02,  8.5765e-01]])"
      ]
     },
     "execution_count": 5,
     "metadata": {},
     "output_type": "execute_result"
    }
   ],
   "source": [
    "ds[0][1]"
   ]
  },
  {
   "cell_type": "code",
   "execution_count": null,
   "metadata": {},
   "outputs": [],
   "source": [
    "ds[0][2]"
   ]
  }
 ],
 "metadata": {
  "kernelspec": {
   "display_name": "Python 3",
   "language": "python",
   "name": "python3"
  },
  "language_info": {
   "codemirror_mode": {
    "name": "ipython",
    "version": 3
   },
   "file_extension": ".py",
   "mimetype": "text/x-python",
   "name": "python",
   "nbconvert_exporter": "python",
   "pygments_lexer": "ipython3",
   "version": "3.6.8"
  }
 },
 "nbformat": 4,
 "nbformat_minor": 2
}
