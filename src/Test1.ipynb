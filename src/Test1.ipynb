{
 "cells": [
  {
   "cell_type": "code",
   "execution_count": 1,
   "metadata": {},
   "outputs": [],
   "source": [
    "import torch\n",
    "import torch.nn as nn\n",
    "import torchvision.transforms as transforms\n",
    "import torch.optim as optims\n",
    "from torchsummary import summary\n",
    "from model import DeepVO\n",
    "from utils import *\n",
    "from radam import RAdam"
   ]
  },
  {
   "cell_type": "code",
   "execution_count": 2,
   "metadata": {},
   "outputs": [],
   "source": [
    "device = torch.device(\"cuda:1\" if torch.cuda.is_available() else \"cpu\")\n",
    "\n",
    "model = DeepVO()\n",
    "model.to(device)\n",
    "model.load_pretrained_flow(device)\n",
    "\n",
    "optimizer = RAdam(model.parameters())\n",
    "\n",
    "train_dl = DataLoader(KittiPredefinedDataset(), batch_size=24, shuffle=True, num_workers=8)\n",
    "# vali_dl  = DataLoader(KittiPredefinedValidationDataset(), batch_size=24, shuffle=False, num_workers=8)\n",
    "test_dl = DataLoader(KittiPredefinedDataset(seqs=[\"01\"]), batch_size=24, shuffle=False, num_workers=8)\n",
    "\n",
    "weight_folder = \"weights1\"\n",
    "cur = 0"
   ]
  },
  {
   "cell_type": "code",
   "execution_count": null,
   "metadata": {},
   "outputs": [
    {
     "name": "stdout",
     "output_type": "stream",
     "text": [
      "200th loss: 0.17332071430981158\n",
      "400th loss: 0.025720487516373396\n",
      "600th loss: 0.012882363628596067\n",
      "Train Epoch 1th loss: 0.0688964352433639\n",
      "200th loss: 0.008982274192385375\n",
      "400th loss: 0.007541281280573457\n"
     ]
    }
   ],
   "source": [
    "EPOCH = 200\n",
    "for e in range(cur+1, cur+EPOCH+1):\n",
    "    train(model, train_dl, optimizer, device, e, weight_folder)\n",
    "#     validate(model,vali_dl, optimizer, device, e)\n",
    "    gt, pred = test(model, test_dl, device)\n",
    "    draw_route(gt, pred, str(e), weight_folder)\n",
    "    cur = cur + 1"
   ]
  }
 ],
 "metadata": {
  "kernelspec": {
   "display_name": "Python 3",
   "language": "python",
   "name": "python3"
  },
  "language_info": {
   "codemirror_mode": {
    "name": "ipython",
    "version": 3
   },
   "file_extension": ".py",
   "mimetype": "text/x-python",
   "name": "python",
   "nbconvert_exporter": "python",
   "pygments_lexer": "ipython3",
   "version": "3.6.8"
  }
 },
 "nbformat": 4,
 "nbformat_minor": 2
}
