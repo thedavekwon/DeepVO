{
 "cells": [
  {
   "cell_type": "code",
   "execution_count": 1,
   "metadata": {},
   "outputs": [],
   "source": [
    "import torch\n",
    "import torch.nn as nn\n",
    "import torchvision.transforms as transforms\n",
    "import torch.optim as optims\n",
    "from torchsummary import summary\n",
    "from model import DeepVO\n",
    "from utils import *"
   ]
  },
  {
   "cell_type": "code",
   "execution_count": 2,
   "metadata": {},
   "outputs": [],
   "source": [
    "device = torch.device(\"cuda:1\" if torch.cuda.is_available() else \"cpu\")\n",
    "\n",
    "model = DeepVO()\n",
    "model.load_pretrained(device)\n",
    "model.to(device)\n",
    "\n",
    "optimizer = optims.Adagrad(model.parameters(), lr=0.001)\n",
    "\n",
    "trian_dl = DataLoader(KittiPredefinedDataset(), batch_size=12, shuffle=True, num_workers=0)\n",
    "vali_dl  = DataLoader(KittiPredefinedDataset(), batch_size=12, shuffle=False, num_workers=0)"
   ]
  },
  {
   "cell_type": "code",
   "execution_count": null,
   "metadata": {},
   "outputs": [
    {
     "name": "stdout",
     "output_type": "stream",
     "text": [
      "5th loss: 13721.0341796875\n",
      "10th loss: 6631.20703125\n",
      "15th loss: 2860.471435546875\n"
     ]
    }
   ],
   "source": [
    "EPOCH = 10\n",
    "for e in range(1, EPOCH+1):\n",
    "    train(model, trian_dl, optimizer, device, e)\n",
    "    validate(model,vali_dl, optimizer, device, e)"
   ]
  },
  {
   "cell_type": "code",
   "execution_count": null,
   "metadata": {},
   "outputs": [],
   "source": []
  }
 ],
 "metadata": {
  "kernelspec": {
   "display_name": "Python 3",
   "language": "python",
   "name": "python3"
  },
  "language_info": {
   "codemirror_mode": {
    "name": "ipython",
    "version": 3
   },
   "file_extension": ".py",
   "mimetype": "text/x-python",
   "name": "python",
   "nbconvert_exporter": "python",
   "pygments_lexer": "ipython3",
   "version": "3.6.8"
  }
 },
 "nbformat": 4,
 "nbformat_minor": 2
}
