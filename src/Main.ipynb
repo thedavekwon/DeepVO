{
 "cells": [
  {
   "cell_type": "code",
   "execution_count": 1,
   "metadata": {},
   "outputs": [],
   "source": [
    "import torch\n",
    "import torch.nn as nn\n",
    "import torchvision.transforms as transforms\n",
    "import torch.optim as optims\n",
    "from torchsummary import summary\n",
    "from model import DeepVO\n",
    "from utils import *"
   ]
  },
  {
   "cell_type": "code",
   "execution_count": 2,
   "metadata": {},
   "outputs": [],
   "source": [
    "device = torch.device(\"cuda:1\" if torch.cuda.is_available() else \"cpu\")\n",
    "\n",
    "model = DeepVO()\n",
    "model.load_pretrained(device)\n",
    "model.to(device)\n",
    "\n",
    "optimizer = optims.Adagrad(model.parameters(), lr=0.001)\n",
    "\n",
    "trian_dl = DataLoader(KittiPredefinedDataset(), batch_size=12, shuffle=True, num_workers=0)\n",
    "vali_dl  = DataLoader(KittiPredefinedDataset(), batch_size=12, shuffle=False, num_workers=0)"
   ]
  },
  {
   "cell_type": "code",
   "execution_count": null,
   "metadata": {},
   "outputs": [
    {
     "name": "stdout",
     "output_type": "stream",
     "text": [
      "5th loss: 13721.0341796875\n",
      "10th loss: 6631.20703125\n",
      "15th loss: 2860.471435546875\n",
      "20th loss: 2847.22021484375\n",
      "25th loss: 4975.78564453125\n",
      "30th loss: 3145.520751953125\n",
      "35th loss: 5456.0849609375\n",
      "40th loss: 6181.45947265625\n",
      "45th loss: 1372.5418701171875\n",
      "50th loss: 1394.4949951171875\n",
      "55th loss: 4390.998046875\n",
      "60th loss: 6546.2265625\n",
      "65th loss: 5486.2236328125\n",
      "70th loss: 8512.6767578125\n",
      "75th loss: 3484.223388671875\n",
      "80th loss: 496.0000305175781\n",
      "85th loss: 1511.8406982421875\n",
      "90th loss: 4532.12353515625\n",
      "95th loss: 239.690673828125\n",
      "100th loss: 5299.16552734375\n",
      "105th loss: 1635.6092529296875\n",
      "110th loss: 597.7967529296875\n",
      "115th loss: 6716.62841796875\n",
      "120th loss: 5296.16552734375\n",
      "125th loss: 2212.790771484375\n",
      "130th loss: 9929.083984375\n",
      "135th loss: 9194.4921875\n",
      "140th loss: 2742.26025390625\n",
      "145th loss: 6562.45947265625\n",
      "150th loss: 3696.8349609375\n",
      "155th loss: 5745.67041015625\n",
      "160th loss: 6252.875\n",
      "165th loss: 3649.54736328125\n",
      "170th loss: 12296.564453125\n",
      "175th loss: 5884.6240234375\n",
      "180th loss: 375.5342712402344\n",
      "185th loss: 597.4334716796875\n",
      "190th loss: 775.1359252929688\n",
      "195th loss: 3561.93408203125\n"
     ]
    }
   ],
   "source": [
    "EPOCH = 10\n",
    "for e in range(1, EPOCH+1):\n",
    "    train(model, trian_dl, optimizer, device, e)\n",
    "    validate(model,vali_dl, optimizer, device, e)"
   ]
  },
  {
   "cell_type": "code",
   "execution_count": null,
   "metadata": {},
   "outputs": [],
   "source": []
  }
 ],
 "metadata": {
  "kernelspec": {
   "display_name": "Python 3",
   "language": "python",
   "name": "python3"
  },
  "language_info": {
   "codemirror_mode": {
    "name": "ipython",
    "version": 3
   },
   "file_extension": ".py",
   "mimetype": "text/x-python",
   "name": "python",
   "nbconvert_exporter": "python",
   "pygments_lexer": "ipython3",
   "version": "3.6.8"
  }
 },
 "nbformat": 4,
 "nbformat_minor": 2
}
