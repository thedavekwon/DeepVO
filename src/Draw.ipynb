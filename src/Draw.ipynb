{
 "cells": [
  {
   "cell_type": "code",
   "execution_count": 1,
   "metadata": {},
   "outputs": [],
   "source": [
    "import torch\n",
    "import torch.nn as nn\n",
    "import torchvision.transforms as transforms\n",
    "import torch.optim as optims\n",
    "from torchsummary import summary\n",
    "from model import DeepVO\n",
    "from utils import *"
   ]
  },
  {
   "cell_type": "code",
   "execution_count": 2,
   "metadata": {},
   "outputs": [],
   "source": [
    "device = torch.device(\"cuda:0\" if torch.cuda.is_available() else \"cpu\")\n",
    "weight_folder = \"weights\"\n",
    "# weights = range(185, 205, 5)\n",
    "weights = [200, 205]\n",
    "optimizer = \"radam\"\n",
    "seqs=[[\"0\"+str(i)] if i < 10 else [str(i)] for i in range(11)]"
   ]
  },
  {
   "cell_type": "code",
   "execution_count": 3,
   "metadata": {},
   "outputs": [
    {
     "data": {
      "image/png": "[encoded data removed]",
      "text/plain": [
       "<Figure size 432x288 with 1 Axes>"
      ]
     },
     "metadata": {
      "needs_background": "light"
     },
     "output_type": "display_data"
    }
   ],
   "source": [
    "for weight_num in weights:\n",
    "    cur, model, optimizer = load_model(device, optimizer, 0.001, f\"../{weight_folder}/{weight_num}.weights\")\n",
    "    for seq in seqs:\n",
    "        test_dl = DataLoader(KittiPredefinedDataset(seq), batch_size=16, shuffle=False, num_workers=10)\n",
    "        gt, pred = test(model, test_dl, device, seq)\n",
    "        draw_route(gt, pred, f\"{seq[0]}_test2_{weight_num}\", weight_folder)"
   ]
  }
 ],
 "metadata": {
  "kernelspec": {
   "display_name": "Python 3",
   "language": "python",
   "name": "python3"
  },
  "language_info": {
   "codemirror_mode": {
    "name": "ipython",
    "version": 3
   },
   "file_extension": ".py",
   "mimetype": "text/x-python",
   "name": "python",
   "nbconvert_exporter": "python",
   "pygments_lexer": "ipython3",
   "version": "3.6.8"
  }
 },
 "nbformat": 4,
 "nbformat_minor": 2
}
