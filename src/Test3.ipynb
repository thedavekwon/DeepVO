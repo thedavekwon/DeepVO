{
 "cells": [
  {
   "cell_type": "code",
   "execution_count": 1,
   "metadata": {},
   "outputs": [],
   "source": [
    "import torch\n",
    "import torch.nn as nn\n",
    "import torchvision.transforms as transforms\n",
    "import torch.optim as optims\n",
    "from torchsummary import summary\n",
    "from model import DeepVO\n",
    "from utils import *"
   ]
  },
  {
   "cell_type": "code",
   "execution_count": 2,
   "metadata": {},
   "outputs": [],
   "source": [
    "# device = torch.device(\"cuda:1\" if torch.cuda.is_available() else \"cpu\")\n",
    "\n",
    "# model = DeepVO()\n",
    "# model.to(device)\n",
    "# # model.load_pretrained_flow(device, \"../weights/pretrained.weights\")\n",
    "\n",
    "# optimizer = optims.Adagrad(model.parameters(), lr=0.001)\n",
    "\n",
    "# cur, model, optimizer = load_model(device, \"../weights/pretrained.weights\")\n",
    "\n",
    "# trian_dl = DataLoader(KittiPredefinedDataset(), batch_size=24, shuffle=True, num_workers=8)\n",
    "# trian_dl = DataLoader(KittiPredefinedDataset(), batch_size=24, shuffle=True, num_workers=12)\n",
    "# vali_dl  = DataLoader(KittiPredefinedValidationDataset(), batch_size=24, shuffle=False, num_workers=12)\n",
    "# test_dl = DataLoader(KittiPredefinedDataset(seqs=[\"10\"]), batch_size=24, shuffle=False, num_workers=6)\n",
    "ds = KittiPredefinedDataset([\"00\"])"
   ]
  },
  {
   "cell_type": "code",
   "execution_count": 3,
   "metadata": {},
   "outputs": [
    {
     "data": {
      "text/plain": [
       "torch.Size([5, 6, 620, 188])"
      ]
     },
     "execution_count": 3,
     "metadata": {},
     "output_type": "execute_result"
    }
   ],
   "source": [
    "ds[0][0].shape"
   ]
  },
  {
   "cell_type": "code",
   "execution_count": 6,
   "metadata": {},
   "outputs": [
    {
     "data": {
      "text/plain": [
       "tensor([[-0.0469, -0.0284,  0.8587],\n",
       "        [-0.0451, -0.0274,  0.8577],\n",
       "        [-0.0451, -0.0274,  0.8588],\n",
       "        [-0.0451, -0.0274,  0.8578],\n",
       "        [-0.0451, -0.0274,  0.8588],\n",
       "        [-0.0451, -0.0274,  0.8578]])"
      ]
     },
     "execution_count": 6,
     "metadata": {},
     "output_type": "execute_result"
    }
   ],
   "source": [
    "ds[1][1]"
   ]
  },
  {
   "cell_type": "code",
   "execution_count": 7,
   "metadata": {},
   "outputs": [
    {
     "data": {
      "text/plain": [
       "tensor([[-0.0021,  0.0012, -0.0005],\n",
       "        [-0.0021,  0.0012, -0.0005],\n",
       "        [-0.0021,  0.0012, -0.0005],\n",
       "        [-0.0021,  0.0012, -0.0005],\n",
       "        [-0.0021,  0.0012, -0.0005],\n",
       "        [-0.0021,  0.0012, -0.0005]])"
      ]
     },
     "execution_count": 7,
     "metadata": {},
     "output_type": "execute_result"
    }
   ],
   "source": [
    "ds[1][2]"
   ]
  }
 ],
 "metadata": {
  "kernelspec": {
   "display_name": "Python 3",
   "language": "python",
   "name": "python3"
  },
  "language_info": {
   "codemirror_mode": {
    "name": "ipython",
    "version": 3
   },
   "file_extension": ".py",
   "mimetype": "text/x-python",
   "name": "python",
   "nbconvert_exporter": "python",
   "pygments_lexer": "ipython3",
   "version": "3.6.8"
  }
 },
 "nbformat": 4,
 "nbformat_minor": 2
}
